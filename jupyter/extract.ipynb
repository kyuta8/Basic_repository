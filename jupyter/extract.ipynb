{
 "cells": [
  {
   "cell_type": "code",
   "execution_count": 16,
   "metadata": {},
   "outputs": [],
   "source": [
    "import os\n",
    "import sys\n",
    "import re\n",
    "import pandas as pd"
   ]
  },
  {
   "cell_type": "code",
   "execution_count": 17,
   "metadata": {},
   "outputs": [],
   "source": [
    "file_path = os.getcwd() + '/dataset/pdf_dataset'\n",
    "files = os.listdir(file_path)\n",
    "k_words = re.compile(r'^.*\\.txt$')\n",
    "file_paths = [file_path + '/' + f for f in files if re.match(k_words, f)]"
   ]
  },
  {
   "cell_type": "code",
   "execution_count": 20,
   "metadata": {},
   "outputs": [],
   "source": [
    "head_word = pd.DataFrame()\n",
    "\n",
    "\n",
    "for path in file_paths:\n",
    "    list_head_word = []\n",
    "    with open(path, mode='rt', encoding='utf-8-sig') as f:\n",
    "        text = list(f)\n",
    "    for t in text:\n",
    "        list_head_word.append(t[:5])\n",
    "    text_df = pd.DataFrame(list_head_word, columns = ['header'])\n",
    "    text_df.replace('\\n', '', regex = True, inplace = True)\n",
    "    text_df.replace(' $', '', regex = True, inplace = True)\n",
    "    head_word = pd.concat([head_word, text_df])"
   ]
  },
  {
   "cell_type": "code",
   "execution_count": 21,
   "metadata": {},
   "outputs": [],
   "source": [
    "dic_head_word = head_word['header'].value_counts().to_dict()\n",
    "pd.DataFrame(list(dic_head_word.items()), columns = ['header', 'count']).to_csv('head_word_patterns.csv', encoding = 'utf_8_sig')"
   ]
  },
  {
   "cell_type": "code",
   "execution_count": null,
   "metadata": {},
   "outputs": [],
   "source": []
  }
 ],
 "metadata": {
  "kernelspec": {
   "display_name": "Python 3",
   "language": "python",
   "name": "python3"
  },
  "language_info": {
   "codemirror_mode": {
    "name": "ipython",
    "version": 3
   },
   "file_extension": ".py",
   "mimetype": "text/x-python",
   "name": "python",
   "nbconvert_exporter": "python",
   "pygments_lexer": "ipython3",
   "version": "3.7.2"
  }
 },
 "nbformat": 4,
 "nbformat_minor": 2
}
