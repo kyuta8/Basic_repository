{
 "cells": [
  {
   "cell_type": "markdown",
   "metadata": {},
   "source": [
    "# ソーシャルネットワーク分析"
   ]
  },
  {
   "cell_type": "markdown",
   "metadata": {},
   "source": [
    "## Pajekファイルの読み込み"
   ]
  },
  {
   "cell_type": "code",
   "execution_count": 3,
   "metadata": {},
   "outputs": [],
   "source": [
    "import networkx as nx\n",
    "import matplotlib.pyplot as plt\n",
    "import seaborn as sns\n",
    "import pandas as pd\n",
    "\n",
    "import re\n",
    "import itertools\n"
   ]
  },
  {
   "cell_type": "code",
   "execution_count": 4,
   "metadata": {},
   "outputs": [],
   "source": [
    "class Pajek():\n",
    "    \n",
    "#     def __init__(self, file: list):\n",
    "#         self.file = file\n",
    "        \n",
    "    # .pajファイルの読み込み\n",
    "    def read_pajek_file(file, encoding='utf8'):\n",
    "\n",
    "        paj = ''\n",
    "        partition = []\n",
    "        text = True\n",
    "        i = 0\n",
    "        f = open(file, encoding=encoding, errors='ignore')\n",
    "        while text:\n",
    "            l = f.readline()\n",
    "\n",
    "            if '*Network' in l:\n",
    "                pass\n",
    "\n",
    "            elif '*Vertices' in l:\n",
    "                if i == 0:\n",
    "                    num = re.findall(r'[0-9]+', l)\n",
    "                    if len(num) >= 2:\n",
    "                        l = re.sub(num[-1], '', l)\n",
    "                elif i == 1:    \n",
    "                    continue\n",
    "\n",
    "            elif '*Partition' in l:\n",
    "                i = 1\n",
    "                continue\n",
    "\n",
    "            if l:\n",
    "                if i == 0:\n",
    "                    paj += l\n",
    "                elif i == 1:\n",
    "                    l = re.sub('\\n', '', l)\n",
    "                    if l == '1':\n",
    "                        color = 'yellow'\n",
    "                    elif l == '2':\n",
    "                        color = 'blue'\n",
    "                    else:\n",
    "                        color = 'red'\n",
    "\n",
    "                    partition.append(color)\n",
    "\n",
    "            else:\n",
    "                text = False\n",
    "\n",
    "        f.close()\n",
    "        return nx.parse_pajek(paj), partition\n",
    "    \n",
    "    # 2-modeから1-modeへネットワークの変換\n",
    "    def to_mode_1_net(node, edge, partition, target):\n",
    "    \n",
    "        nodes = node\n",
    "        edges = pd.DataFrame(edge, columns = ['target', 'source', 'other'])\n",
    "        edges.drop(columns = ['other'], inplace = True)\n",
    "\n",
    "        dev = []\n",
    "        bug_id = []\n",
    "        dev_edge = []\n",
    "        dev_net = []\n",
    "        bug_id_edge = []\n",
    "        bug_id_net = []\n",
    "\n",
    "        #　開発者，バグ報告書にノードを分割\n",
    "        [dev.append(nodes[i]) if partition[i] == 'yellow' else bug_id.append(nodes[i]) for i in range(len(partition))]\n",
    "\n",
    "        if 'dev' in target:\n",
    "            #　開発者ネットワーク構築のためのエッジ抽出\n",
    "            for i in range(len(bug_id)):\n",
    "                b_id = bug_id[i]\n",
    "                bug_in_edge = edges.query('@b_id == target or @b_id == source')\n",
    "                bug_in_edge = bug_in_edge['target'].tolist()\n",
    "                dev_link = list(set(bug_in_edge) - set(b_id))\n",
    "                dev_edge.extend(itertools.product(dev_link, dev_link))\n",
    "                edges = edges.query('@b_id != target or @b_id != source')\n",
    "\n",
    "            dev_edge = list(set(dev_edge))\n",
    "\n",
    "        if 'bug' in target:\n",
    "            #　バグ報告書ネットワーク構築のためのエッジ抽出\n",
    "            for i in range(len(dev)):\n",
    "                d = dev[i]\n",
    "                dev_in_edge = edges.query('@d == target or @d == source')\n",
    "                dev_in_edge = dev_in_edge['source'].tolist()\n",
    "                bug_link = list(set(dev_in_edge) - set(d))\n",
    "                bug_id_edge.extend(itertools.product(bug_link, bug_link))\n",
    "                edges = edges.query('@d != target or @d != source')\n",
    "\n",
    "            bug_id_edge = list(set(bug_id_edge))\n",
    "\n",
    "        if 'dev' in target:\n",
    "            dev_net = [dev, dev_edge]\n",
    "            return dev_net\n",
    "\n",
    "        elif 'bug' in target:\n",
    "            bug_id_net = [bug_id, bug_id_edge]\n",
    "            return bug_id_net\n",
    "\n",
    "        elif 'dev' in target and 'bug' in target:\n",
    "            dev_net = [dev, dev_edge]\n",
    "            bug_id_net = [bug_id, bug_id_edge]\n",
    "            return dev_net, bug_id_net\n",
    "\n",
    "    \n",
    "    # コミュニティ変動分析関数\n",
    "    def color_add_node(ori, pre, post):\n",
    "    \n",
    "        node_color = []\n",
    "        for i in range(len(ori)):\n",
    "            if ori[i] in pre and ori[i] in post:\n",
    "                node_color.append('yellow')\n",
    "\n",
    "            elif not(ori[i] in pre) and ori[i] in post:\n",
    "                node_color.append('red')\n",
    "\n",
    "            elif ori[i] in pre and not(ori[i] in post):\n",
    "                node_color.append('blue')\n",
    "\n",
    "        return node_color\n",
    "\n",
    "    \n",
    "    # ネットワークグラフの出力\n",
    "    def print_net(self, file, target=[], figure_size=(30, 30)):\n",
    "    \n",
    "        file = ['AnalysisData/2003_1-4/200301.paj', 'AnalysisData/2003_9-12/200312.paj']\n",
    "    \n",
    "        Graph = nx.Graph()\n",
    "        nodes = []\n",
    "        edges = []\n",
    "\n",
    "        for i in range(len(file)):\n",
    "            print(type(file[i]))\n",
    "            G, partition = self.read_pajek_file(file[i])\n",
    "\n",
    "            node = list(G.nodes)\n",
    "            edge = list(G.edges)\n",
    "\n",
    "            if target:\n",
    "                if 'dev' in target:\n",
    "                    dev_net = self.to_mode_1_net(node, edge, partition, target)\n",
    "                    nodes.append(dev_net[0])\n",
    "                    Graph.add_edges_from(dev_net[1])\n",
    "\n",
    "                elif 'bug' in target:\n",
    "                    bug_net = self.to_mode_1_net(node, edge, partition, target)\n",
    "                    nodes.append(bug_net[0])\n",
    "                    Graph.add_edges_from(bug_net[1])\n",
    "\n",
    "                else:\n",
    "                    dev_net, bug_net = self.to_mode_1_net(node, edge, partition, target)\n",
    "                    Graph.add_edges_from(dev_net)\n",
    "                    Graph.add_edges_from(bug_net)\n",
    "\n",
    "            else:\n",
    "                Graph.add_edges_from(edge)\n",
    "\n",
    "        plt.figure(figsize=figure_size)\n",
    "    #     pos = nx.kamada_kawai_layout(Graph)\n",
    "        pos = nx.spring_layout(Graph, k=1)\n",
    "\n",
    "        nx.draw_networkx_nodes(Graph, pos, node_color = self.color_add_node(list(Graph.nodes), nodes[0], nodes[1]), alpha = 0.6)\n",
    "        nx.draw_networkx_edges(Graph, pos, edge_color = 'gray', alpha = 0.8)\n",
    "\n",
    "        nx.draw_networkx_labels(Graph, pos, font_size = 10, alpha = 0.8)\n",
    "\n",
    "        plt.show()\n",
    "        plt.close()\n",
    "\n",
    "        print('クラスタリング係数：{}'.format(nx.average_clustering(Graph)))\n",
    "\n",
    "        # 次数中心性\n",
    "        degree_centers = nx.degree_centrality(Graph)\n",
    "        degree_centers_sorted =  sorted(degree_centers.items(), key=lambda x: x[1], reverse=True)[:10]\n",
    "        degree_centers_df = pd.DataFrame(degree_centers_sorted, columns = ['Nodes', 'Degree_Centrality'])\n",
    "        degree_centers_df.plot(kind='bar')\n",
    "\n",
    "        # 近接中心性\n",
    "        close_centers = nx.closeness_centrality(Graph)\n",
    "        close_centers_sorted = sorted(close_centers.items(), key=lambda x: x[1], reverse=True)[:10]\n",
    "        close_centers_df = pd.DataFrame(close_centers_sorted, columns = ['Nodes', 'Close_Centrality'])\n",
    "        close_centers_df.plot(kind='bar')\n",
    "\n",
    "        # 媒介中心性\n",
    "        between_centers = nx.betweenness_centrality(Graph)\n",
    "        between_centers_sorted = sorted(between_centers.items(), key=lambda x: x[1], reverse=True)[:10]\n",
    "        between_centers_df = pd.DataFrame(between_centers_sorted, columns = ['Nodes', 'Between_Centrality'])\n",
    "        between_centers_df.plot(kind='bar')"
   ]
  },
  {
   "cell_type": "code",
   "execution_count": 118,
   "metadata": {},
   "outputs": [],
   "source": {
    "code": [
     {
      "code": "#"
     },
     {
      "code": ""
     },
     {
      "code": "ネ"
     },
     {
      "code": "ッ"
     },
     {
      "code": "ト"
     },
     {
      "code": "ワ"
     },
     {
      "code": "ー"
     },
     {
      "code": "ク"
     },
     {
      "code": "グ"
     },
     {
      "code": "ラ"
     },
     {
      "code": "フ"
     },
     {
      "code": "の"
     },
     {
      "code": "出"
     },
     {
      "code": "力"
     },
     {
      "code": ""
     },
     {
      "code": "d"
     },
     {
      "code": "e"
     },
     {
      "code": "f"
     },
     {
      "code": ""
     },
     {
      "code": "p"
     },
     {
      "code": "r"
     },
     {
      "code": "i"
     },
     {
      "code": "n"
     },
     {
      "code": "t"
     },
     {
      "code": "_"
     },
     {
      "code": "n"
     },
     {
      "code": "e"
     },
     {
      "code": "t"
     },
     {
      "code": "("
     },
     {
      "code": "f"
     },
     {
      "code": "i"
     },
     {
      "code": "l"
     },
     {
      "code": "e"
     },
     {
      "code": ":"
     },
     {
      "code": ""
     },
     {
      "code": "l"
     },
     {
      "code": "i"
     },
     {
      "code": "s"
     },
     {
      "code": "t"
     },
     {
      "code": ","
     },
     {
      "code": ""
     },
     {
      "code": "m"
     },
     {
      "code": "o"
     },
     {
      "code": "d"
     },
     {
      "code": "e"
     },
     {
      "code": "="
     },
     {
      "code": "'"
     },
     {
      "code": "'"
     },
     {
      "code": ")"
     },
     {
      "code": ":"
     },
     {
      "code": ""
     },
     {
      "code": ""
     },
     {
      "code": ""
     },
     {
      "code": ""
     },
     {
      "code": ""
     },
     {
      "code": ""
     },
     {
      "code": ""
     },
     {
      "code": ""
     },
     {
      "code": ""
     },
     {
      "code": ""
     },
     {
      "code": "G"
     },
     {
      "code": "r"
     },
     {
      "code": "a"
     },
     {
      "code": "p"
     },
     {
      "code": "h"
     },
     {
      "code": ""
     },
     {
      "code": "="
     },
     {
      "code": ""
     },
     {
      "code": "n"
     },
     {
      "code": "x"
     },
     {
      "code": "."
     },
     {
      "code": "G"
     },
     {
      "code": "r"
     },
     {
      "code": "a"
     },
     {
      "code": "p"
     },
     {
      "code": "h"
     },
     {
      "code": "("
     },
     {
      "code": ")"
     },
     {
      "code": ""
     },
     {
      "code": ""
     },
     {
      "code": ""
     },
     {
      "code": ""
     },
     {
      "code": ""
     },
     {
      "code": "n"
     },
     {
      "code": "o"
     },
     {
      "code": "d"
     },
     {
      "code": "e"
     },
     {
      "code": "s"
     },
     {
      "code": ""
     },
     {
      "code": "="
     },
     {
      "code": ""
     },
     {
      "code": "["
     },
     {
      "code": "]"
     },
     {
      "code": ""
     },
     {
      "code": ""
     },
     {
      "code": ""
     },
     {
      "code": ""
     },
     {
      "code": ""
     },
     {
      "code": "e"
     },
     {
      "code": "d"
     },
     {
      "code": "g"
     },
     {
      "code": "e"
     },
     {
      "code": "s"
     },
     {
      "code": ""
     },
     {
      "code": "="
     },
     {
      "code": ""
     },
     {
      "code": "["
     },
     {
      "code": "]"
     },
     {
      "code": ""
     },
     {
      "code": ""
     },
     {
      "code": ""
     },
     {
      "code": ""
     },
     {
      "code": ""
     },
     {
      "code": ""
     },
     {
      "code": ""
     },
     {
      "code": ""
     },
     {
      "code": ""
     },
     {
      "code": ""
     },
     {
      "code": "f"
     },
     {
      "code": "o"
     },
     {
      "code": "r"
     },
     {
      "code": ""
     },
     {
      "code": "i"
     },
     {
      "code": ""
     },
     {
      "code": "i"
     },
     {
      "code": "n"
     },
     {
      "code": ""
     },
     {
      "code": "r"
     },
     {
      "code": "a"
     },
     {
      "code": "n"
     },
     {
      "code": "g"
     },
     {
      "code": "e"
     },
     {
      "code": "("
     },
     {
      "code": "l"
     },
     {
      "code": "e"
     },
     {
      "code": "n"
     },
     {
      "code": "("
     },
     {
      "code": "f"
     },
     {
      "code": "i"
     },
     {
      "code": "l"
     },
     {
      "code": "e"
     },
     {
      "code": ")"
     },
     {
      "code": ")"
     },
     {
      "code": ":"
     },
     {
      "code": ""
     },
     {
      "code": ""
     },
     {
      "code": ""
     },
     {
      "code": ""
     },
     {
      "code": ""
     },
     {
      "code": ""
     },
     {
      "code": ""
     },
     {
      "code": ""
     },
     {
      "code": ""
     },
     {
      "code": ""
     },
     {
      "code": ""
     },
     {
      "code": ""
     },
     {
      "code": ""
     },
     {
      "code": ""
     },
     {
      "code": ""
     },
     {
      "code": ""
     },
     {
      "code": ""
     },
     {
      "code": ""
     },
     {
      "code": "#"
     },
     {
      "code": ""
     },
     {
      "code": "ネ"
     },
     {
      "code": "ッ"
     },
     {
      "code": "ト"
     },
     {
      "code": "ワ"
     },
     {
      "code": "ー"
     },
     {
      "code": "ク"
     },
     {
      "code": "の"
     },
     {
      "code": "構"
     },
     {
      "code": "築"
     },
     {
      "code": ""
     },
     {
      "code": ""
     },
     {
      "code": ""
     },
     {
      "code": ""
     },
     {
      "code": ""
     },
     {
      "code": ""
     },
     {
      "code": ""
     },
     {
      "code": ""
     },
     {
      "code": ""
     },
     {
      "code": "p"
     },
     {
      "code": "a"
     },
     {
      "code": "r"
     },
     {
      "code": "t"
     },
     {
      "code": "i"
     },
     {
      "code": "t"
     },
     {
      "code": "i"
     },
     {
      "code": "o"
     },
     {
      "code": "n"
     },
     {
      "code": ""
     },
     {
      "code": "="
     },
     {
      "code": ""
     },
     {
      "code": "'"
     },
     {
      "code": "'"
     },
     {
      "code": ""
     },
     {
      "code": ""
     },
     {
      "code": ""
     },
     {
      "code": ""
     },
     {
      "code": ""
     },
     {
      "code": ""
     },
     {
      "code": ""
     },
     {
      "code": ""
     },
     {
      "code": ""
     },
     {
      "code": "G"
     },
     {
      "code": ","
     },
     {
      "code": ""
     },
     {
      "code": "p"
     },
     {
      "code": "a"
     },
     {
      "code": "r"
     },
     {
      "code": "t"
     },
     {
      "code": "i"
     },
     {
      "code": "t"
     },
     {
      "code": "i"
     },
     {
      "code": "o"
     },
     {
      "code": "n"
     },
     {
      "code": ""
     },
     {
      "code": "="
     },
     {
      "code": ""
     },
     {
      "code": "r"
     },
     {
      "code": "e"
     },
     {
      "code": "a"
     },
     {
      "code": "d"
     },
     {
      "code": "_"
     },
     {
      "code": "p"
     },
     {
      "code": "a"
     },
     {
      "code": "j"
     },
     {
      "code": "e"
     },
     {
      "code": "k"
     },
     {
      "code": "_"
     },
     {
      "code": "f"
     },
     {
      "code": "i"
     },
     {
      "code": "l"
     },
     {
      "code": "e"
     },
     {
      "code": "("
     },
     {
      "code": "f"
     },
     {
      "code": "i"
     },
     {
      "code": "l"
     },
     {
      "code": "e"
     },
     {
      "code": "["
     },
     {
      "code": "i"
     },
     {
      "code": "]"
     },
     {
      "code": ")"
     },
     {
      "code": ""
     },
     {
      "code": ""
     },
     {
      "code": ""
     },
     {
      "code": ""
     },
     {
      "code": ""
     },
     {
      "code": ""
     },
     {
      "code": ""
     },
     {
      "code": ""
     },
     {
      "code": ""
     },
     {
      "code": ""
     },
     {
      "code": "i"
     },
     {
      "code": "f"
     },
     {
      "code": ""
     },
     {
      "code": "p"
     },
     {
      "code": "a"
     },
     {
      "code": "r"
     },
     {
      "code": "t"
     },
     {
      "code": "i"
     },
     {
      "code": "t"
     },
     {
      "code": "i"
     },
     {
      "code": "o"
     },
     {
      "code": "n"
     },
     {
      "code": ":"
     },
     {
      "code": ""
     },
     {
      "code": ""
     },
     {
      "code": ""
     },
     {
      "code": ""
     },
     {
      "code": ""
     },
     {
      "code": ""
     },
     {
      "code": ""
     },
     {
      "code": ""
     },
     {
      "code": ""
     },
     {
      "code": ""
     },
     {
      "code": ""
     },
     {
      "code": ""
     },
     {
      "code": ""
     },
     {
      "code": "p"
     },
     {
      "code": "a"
     },
     {
      "code": "s"
     },
     {
      "code": "s"
     },
     {
      "code": ""
     },
     {
      "code": ""
     },
     {
      "code": ""
     },
     {
      "code": ""
     },
     {
      "code": ""
     },
     {
      "code": ""
     },
     {
      "code": ""
     },
     {
      "code": ""
     },
     {
      "code": ""
     },
     {
      "code": "e"
     },
     {
      "code": "l"
     },
     {
      "code": "s"
     },
     {
      "code": "e"
     },
     {
      "code": ":"
     },
     {
      "code": ""
     },
     {
      "code": ""
     },
     {
      "code": ""
     },
     {
      "code": ""
     },
     {
      "code": ""
     },
     {
      "code": ""
     },
     {
      "code": ""
     },
     {
      "code": ""
     },
     {
      "code": ""
     },
     {
      "code": ""
     },
     {
      "code": ""
     },
     {
      "code": ""
     },
     {
      "code": ""
     },
     {
      "code": "p"
     },
     {
      "code": "a"
     },
     {
      "code": "r"
     },
     {
      "code": "t"
     },
     {
      "code": "i"
     },
     {
      "code": "t"
     },
     {
      "code": "i"
     },
     {
      "code": "o"
     },
     {
      "code": "n"
     },
     {
      "code": ""
     },
     {
      "code": "="
     },
     {
      "code": ""
     },
     {
      "code": "'"
     },
     {
      "code": "y"
     },
     {
      "code": "e"
     },
     {
      "code": "l"
     },
     {
      "code": "l"
     },
     {
      "code": "o"
     },
     {
      "code": "w"
     },
     {
      "code": "'"
     },
     {
      "code": ""
     },
     {
      "code": ""
     },
     {
      "code": ""
     },
     {
      "code": ""
     },
     {
      "code": ""
     },
     {
      "code": ""
     },
     {
      "code": ""
     },
     {
      "code": ""
     },
     {
      "code": ""
     },
     {
      "code": ""
     },
     {
      "code": "#"
     },
     {
      "code": ""
     },
     {
      "code": "t"
     },
     {
      "code": "a"
     },
     {
      "code": "r"
     },
     {
      "code": "g"
     },
     {
      "code": "e"
     },
     {
      "code": "t"
     },
     {
      "code": ""
     },
     {
      "code": "="
     },
     {
      "code": ""
     },
     {
      "code": "["
     },
     {
      "code": "]"
     },
     {
      "code": ""
     },
     {
      "code": ""
     },
     {
      "code": ""
     },
     {
      "code": ""
     },
     {
      "code": ""
     },
     {
      "code": ""
     },
     {
      "code": ""
     },
     {
      "code": ""
     },
     {
      "code": ""
     },
     {
      "code": "t"
     },
     {
      "code": "a"
     },
     {
      "code": "r"
     },
     {
      "code": "g"
     },
     {
      "code": "e"
     },
     {
      "code": "t"
     },
     {
      "code": ""
     },
     {
      "code": "="
     },
     {
      "code": ""
     },
     {
      "code": "["
     },
     {
      "code": "'"
     },
     {
      "code": "d"
     },
     {
      "code": "e"
     },
     {
      "code": "v"
     },
     {
      "code": "'"
     },
     {
      "code": "]"
     },
     {
      "code": ""
     },
     {
      "code": ""
     },
     {
      "code": ""
     },
     {
      "code": ""
     },
     {
      "code": ""
     },
     {
      "code": ""
     },
     {
      "code": ""
     },
     {
      "code": ""
     },
     {
      "code": ""
     },
     {
      "code": "#"
     },
     {
      "code": ""
     },
     {
      "code": "t"
     },
     {
      "code": "a"
     },
     {
      "code": "r"
     },
     {
      "code": "g"
     },
     {
      "code": "e"
     },
     {
      "code": "t"
     },
     {
      "code": ""
     },
     {
      "code": "="
     },
     {
      "code": ""
     },
     {
      "code": "["
     },
     {
      "code": "'"
     },
     {
      "code": "b"
     },
     {
      "code": "u"
     },
     {
      "code": "g"
     },
     {
      "code": "'"
     },
     {
      "code": "]"
     },
     {
      "code": ""
     },
     {
      "code": ""
     },
     {
      "code": ""
     },
     {
      "code": ""
     },
     {
      "code": ""
     },
     {
      "code": ""
     },
     {
      "code": ""
     },
     {
      "code": ""
     },
     {
      "code": ""
     },
     {
      "code": ""
     },
     {
      "code": "i"
     },
     {
      "code": "f"
     },
     {
      "code": ""
     },
     {
      "code": "t"
     },
     {
      "code": "a"
     },
     {
      "code": "r"
     },
     {
      "code": "g"
     },
     {
      "code": "e"
     },
     {
      "code": "t"
     },
     {
      "code": ":"
     },
     {
      "code": ""
     },
     {
      "code": ""
     },
     {
      "code": ""
     },
     {
      "code": ""
     },
     {
      "code": ""
     },
     {
      "code": ""
     },
     {
      "code": ""
     },
     {
      "code": ""
     },
     {
      "code": ""
     },
     {
      "code": ""
     },
     {
      "code": ""
     },
     {
      "code": ""
     },
     {
      "code": ""
     },
     {
      "code": ""
     },
     {
      "code": "#"
     },
     {
      "code": ""
     },
     {
      "code": "1"
     },
     {
      "code": "-"
     },
     {
      "code": "m"
     },
     {
      "code": "o"
     },
     {
      "code": "d"
     },
     {
      "code": "e"
     },
     {
      "code": "の"
     },
     {
      "code": "ネ"
     },
     {
      "code": "ッ"
     },
     {
      "code": "ト"
     },
     {
      "code": "ワ"
     },
     {
      "code": "ー"
     },
     {
      "code": "ク"
     },
     {
      "code": "を"
     },
     {
      "code": "構"
     },
     {
      "code": "築"
     },
     {
      "code": ""
     },
     {
      "code": ""
     },
     {
      "code": ""
     },
     {
      "code": ""
     },
     {
      "code": ""
     },
     {
      "code": ""
     },
     {
      "code": ""
     },
     {
      "code": ""
     },
     {
      "code": ""
     },
     {
      "code": ""
     },
     {
      "code": ""
     },
     {
      "code": ""
     },
     {
      "code": ""
     },
     {
      "code": "n"
     },
     {
      "code": "o"
     },
     {
      "code": "d"
     },
     {
      "code": "e"
     },
     {
      "code": ""
     },
     {
      "code": "="
     },
     {
      "code": ""
     },
     {
      "code": "l"
     },
     {
      "code": "i"
     },
     {
      "code": "s"
     },
     {
      "code": "t"
     },
     {
      "code": "("
     },
     {
      "code": "G"
     },
     {
      "code": "."
     },
     {
      "code": "n"
     },
     {
      "code": "o"
     },
     {
      "code": "d"
     },
     {
      "code": "e"
     },
     {
      "code": "s"
     },
     {
      "code": ")"
     },
     {
      "code": ""
     },
     {
      "code": ""
     },
     {
      "code": ""
     },
     {
      "code": ""
     },
     {
      "code": ""
     },
     {
      "code": ""
     },
     {
      "code": ""
     },
     {
      "code": ""
     },
     {
      "code": ""
     },
     {
      "code": ""
     },
     {
      "code": ""
     },
     {
      "code": ""
     },
     {
      "code": ""
     },
     {
      "code": "e"
     },
     {
      "code": "d"
     },
     {
      "code": "g"
     },
     {
      "code": "e"
     },
     {
      "code": ""
     },
     {
      "code": "="
     },
     {
      "code": ""
     },
     {
      "code": "l"
     },
     {
      "code": "i"
     },
     {
      "code": "s"
     },
     {
      "code": "t"
     },
     {
      "code": "("
     },
     {
      "code": "G"
     },
     {
      "code": "."
     },
     {
      "code": "e"
     },
     {
      "code": "d"
     },
     {
      "code": "g"
     },
     {
      "code": "e"
     },
     {
      "code": "s"
     },
     {
      "code": ")"
     },
     {
      "code": ""
     },
     {
      "code": ""
     },
     {
      "code": ""
     },
     {
      "code": ""
     },
     {
      "code": ""
     },
     {
      "code": ""
     },
     {
      "code": ""
     },
     {
      "code": ""
     },
     {
      "code": ""
     },
     {
      "code": ""
     },
     {
      "code": ""
     },
     {
      "code": ""
     },
     {
      "code": ""
     },
     {
      "code": ""
     },
     {
      "code": "i"
     },
     {
      "code": "f"
     },
     {
      "code": ""
     },
     {
      "code": "'"
     },
     {
      "code": "d"
     },
     {
      "code": "e"
     },
     {
      "code": "v"
     },
     {
      "code": "'"
     },
     {
      "code": ""
     },
     {
      "code": "i"
     },
     {
      "code": "n"
     },
     {
      "code": ""
     },
     {
      "code": "t"
     },
     {
      "code": "a"
     },
     {
      "code": "r"
     },
     {
      "code": "g"
     },
     {
      "code": "e"
     },
     {
      "code": "t"
     },
     {
      "code": ":"
     },
     {
      "code": ""
     },
     {
      "code": ""
     },
     {
      "code": ""
     },
     {
      "code": ""
     },
     {
      "code": ""
     },
     {
      "code": ""
     },
     {
      "code": ""
     },
     {
      "code": ""
     },
     {
      "code": ""
     },
     {
      "code": ""
     },
     {
      "code": ""
     },
     {
      "code": ""
     },
     {
      "code": ""
     },
     {
      "code": ""
     },
     {
      "code": ""
     },
     {
      "code": ""
     },
     {
      "code": ""
     },
     {
      "code": "#"
     },
     {
      "code": ""
     },
     {
      "code": "開"
     },
     {
      "code": "発"
     },
     {
      "code": "者"
     },
     {
      "code": "ネ"
     },
     {
      "code": "ッ"
     },
     {
      "code": "ト"
     },
     {
      "code": "ワ"
     },
     {
      "code": "ー"
     },
     {
      "code": "ク"
     },
     {
      "code": ""
     },
     {
      "code": ""
     },
     {
      "code": ""
     },
     {
      "code": ""
     },
     {
      "code": ""
     },
     {
      "code": ""
     },
     {
      "code": ""
     },
     {
      "code": ""
     },
     {
      "code": ""
     },
     {
      "code": ""
     },
     {
      "code": ""
     },
     {
      "code": ""
     },
     {
      "code": ""
     },
     {
      "code": ""
     },
     {
      "code": ""
     },
     {
      "code": ""
     },
     {
      "code": ""
     },
     {
      "code": "d"
     },
     {
      "code": "e"
     },
     {
      "code": "v"
     },
     {
      "code": "_"
     },
     {
      "code": "n"
     },
     {
      "code": "e"
     },
     {
      "code": "t"
     },
     {
      "code": ""
     },
     {
      "code": "="
     },
     {
      "code": ""
     },
     {
      "code": "t"
     },
     {
      "code": "o"
     },
     {
      "code": "_"
     },
     {
      "code": "m"
     },
     {
      "code": "o"
     },
     {
      "code": "d"
     },
     {
      "code": "e"
     },
     {
      "code": "_"
     },
     {
      "code": "1"
     },
     {
      "code": "_"
     },
     {
      "code": "n"
     },
     {
      "code": "e"
     },
     {
      "code": "t"
     },
     {
      "code": "("
     },
     {
      "code": "n"
     },
     {
      "code": "o"
     },
     {
      "code": "d"
     },
     {
      "code": "e"
     },
     {
      "code": ","
     },
     {
      "code": ""
     },
     {
      "code": "e"
     },
     {
      "code": "d"
     },
     {
      "code": "g"
     },
     {
      "code": "e"
     },
     {
      "code": ","
     },
     {
      "code": ""
     },
     {
      "code": "p"
     },
     {
      "code": "a"
     },
     {
      "code": "r"
     },
     {
      "code": "t"
     },
     {
      "code": "i"
     },
     {
      "code": "t"
     },
     {
      "code": "i"
     },
     {
      "code": "o"
     },
     {
      "code": "n"
     },
     {
      "code": ","
     },
     {
      "code": ""
     },
     {
      "code": "t"
     },
     {
      "code": "a"
     },
     {
      "code": "r"
     },
     {
      "code": "g"
     },
     {
      "code": "e"
     },
     {
      "code": "t"
     },
     {
      "code": ")"
     },
     {
      "code": ""
     },
     {
      "code": ""
     },
     {
      "code": ""
     },
     {
      "code": ""
     },
     {
      "code": ""
     },
     {
      "code": ""
     },
     {
      "code": ""
     },
     {
      "code": ""
     },
     {
      "code": ""
     },
     {
      "code": ""
     },
     {
      "code": ""
     },
     {
      "code": ""
     },
     {
      "code": ""
     },
     {
      "code": ""
     },
     {
      "code": ""
     },
     {
      "code": ""
     },
     {
      "code": ""
     },
     {
      "code": "G"
     },
     {
      "code": "r"
     },
     {
      "code": "a"
     },
     {
      "code": "p"
     },
     {
      "code": "h"
     },
     {
      "code": "."
     },
     {
      "code": "a"
     },
     {
      "code": "d"
     },
     {
      "code": "d"
     },
     {
      "code": "_"
     },
     {
      "code": "e"
     },
     {
      "code": "d"
     },
     {
      "code": "g"
     },
     {
      "code": "e"
     },
     {
      "code": "s"
     },
     {
      "code": "_"
     },
     {
      "code": "f"
     },
     {
      "code": "r"
     },
     {
      "code": "o"
     },
     {
      "code": "m"
     },
     {
      "code": "("
     },
     {
      "code": "d"
     },
     {
      "code": "e"
     },
     {
      "code": "v"
     },
     {
      "code": "_"
     },
     {
      "code": "n"
     },
     {
      "code": "e"
     },
     {
      "code": "t"
     },
     {
      "code": ")"
     },
     {
      "code": ""
     },
     {
      "code": ""
     },
     {
      "code": ""
     },
     {
      "code": ""
     },
     {
      "code": ""
     },
     {
      "code": ""
     },
     {
      "code": ""
     },
     {
      "code": ""
     },
     {
      "code": ""
     },
     {
      "code": ""
     },
     {
      "code": ""
     },
     {
      "code": ""
     },
     {
      "code": ""
     },
     {
      "code": ""
     },
     {
      "code": "e"
     },
     {
      "code": "l"
     },
     {
      "code": "i"
     },
     {
      "code": "f"
     },
     {
      "code": ""
     },
     {
      "code": "'"
     },
     {
      "code": "b"
     },
     {
      "code": "u"
     },
     {
      "code": "g"
     },
     {
      "code": "'"
     },
     {
      "code": ""
     },
     {
      "code": "i"
     },
     {
      "code": "n"
     },
     {
      "code": ""
     },
     {
      "code": "t"
     },
     {
      "code": "a"
     },
     {
      "code": "r"
     },
     {
      "code": "g"
     },
     {
      "code": "e"
     },
     {
      "code": "t"
     },
     {
      "code": ":"
     },
     {
      "code": ""
     },
     {
      "code": ""
     },
     {
      "code": ""
     },
     {
      "code": ""
     },
     {
      "code": ""
     },
     {
      "code": ""
     },
     {
      "code": ""
     },
     {
      "code": ""
     },
     {
      "code": ""
     },
     {
      "code": ""
     },
     {
      "code": ""
     },
     {
      "code": ""
     },
     {
      "code": ""
     },
     {
      "code": ""
     },
     {
      "code": ""
     },
     {
      "code": ""
     },
     {
      "code": ""
     },
     {
      "code": "#"
     },
     {
      "code": ""
     },
     {
      "code": "開"
     },
     {
      "code": "発"
     },
     {
      "code": "者"
     },
     {
      "code": "ネ"
     },
     {
      "code": "ッ"
     },
     {
      "code": "ト"
     },
     {
      "code": "ワ"
     },
     {
      "code": "ー"
     },
     {
      "code": "ク"
     },
     {
      "code": ""
     },
     {
      "code": ""
     },
     {
      "code": ""
     },
     {
      "code": ""
     },
     {
      "code": ""
     },
     {
      "code": ""
     },
     {
      "code": ""
     },
     {
      "code": ""
     },
     {
      "code": ""
     },
     {
      "code": ""
     },
     {
      "code": ""
     },
     {
      "code": ""
     },
     {
      "code": ""
     },
     {
      "code": ""
     },
     {
      "code": ""
     },
     {
      "code": ""
     },
     {
      "code": ""
     },
     {
      "code": "b"
     },
     {
      "code": "u"
     },
     {
      "code": "g"
     },
     {
      "code": "_"
     },
     {
      "code": "n"
     },
     {
      "code": "e"
     },
     {
      "code": "t"
     },
     {
      "code": ""
     },
     {
      "code": "="
     },
     {
      "code": ""
     },
     {
      "code": "t"
     },
     {
      "code": "o"
     },
     {
      "code": "_"
     },
     {
      "code": "m"
     },
     {
      "code": "o"
     },
     {
      "code": "d"
     },
     {
      "code": "e"
     },
     {
      "code": "_"
     },
     {
      "code": "1"
     },
     {
      "code": "_"
     },
     {
      "code": "n"
     },
     {
      "code": "e"
     },
     {
      "code": "t"
     },
     {
      "code": "("
     },
     {
      "code": "n"
     },
     {
      "code": "o"
     },
     {
      "code": "d"
     },
     {
      "code": "e"
     },
     {
      "code": ","
     },
     {
      "code": ""
     },
     {
      "code": "e"
     },
     {
      "code": "d"
     },
     {
      "code": "g"
     },
     {
      "code": "e"
     },
     {
      "code": ","
     },
     {
      "code": ""
     },
     {
      "code": "p"
     },
     {
      "code": "a"
     },
     {
      "code": "r"
     },
     {
      "code": "t"
     },
     {
      "code": "i"
     },
     {
      "code": "t"
     },
     {
      "code": "i"
     },
     {
      "code": "o"
     },
     {
      "code": "n"
     },
     {
      "code": ","
     },
     {
      "code": ""
     },
     {
      "code": "t"
     },
     {
      "code": "a"
     },
     {
      "code": "r"
     },
     {
      "code": "g"
     },
     {
      "code": "e"
     },
     {
      "code": "t"
     },
     {
      "code": ")"
     },
     {
      "code": ""
     },
     {
      "code": ""
     },
     {
      "code": ""
     },
     {
      "code": ""
     },
     {
      "code": ""
     },
     {
      "code": ""
     },
     {
      "code": ""
     },
     {
      "code": ""
     },
     {
      "code": ""
     },
     {
      "code": ""
     },
     {
      "code": ""
     },
     {
      "code": ""
     },
     {
      "code": ""
     },
     {
      "code": ""
     },
     {
      "code": ""
     },
     {
      "code": ""
     },
     {
      "code": ""
     },
     {
      "code": "G"
     },
     {
      "code": "r"
     },
     {
      "code": "a"
     },
     {
      "code": "p"
     },
     {
      "code": "h"
     },
     {
      "code": "."
     },
     {
      "code": "a"
     },
     {
      "code": "d"
     },
     {
      "code": "d"
     },
     {
      "code": "_"
     },
     {
      "code": "e"
     },
     {
      "code": "d"
     },
     {
      "code": "g"
     },
     {
      "code": "e"
     },
     {
      "code": "s"
     },
     {
      "code": "_"
     },
     {
      "code": "f"
     },
     {
      "code": "r"
     },
     {
      "code": "o"
     },
     {
      "code": "m"
     },
     {
      "code": "("
     },
     {
      "code": "b"
     },
     {
      "code": "u"
     },
     {
      "code": "g"
     },
     {
      "code": "_"
     },
     {
      "code": "n"
     },
     {
      "code": "e"
     },
     {
      "code": "t"
     },
     {
      "code": ")"
     },
     {
      "code": ""
     },
     {
      "code": ""
     },
     {
      "code": ""
     },
     {
      "code": ""
     },
     {
      "code": ""
     },
     {
      "code": ""
     },
     {
      "code": ""
     },
     {
      "code": "#"
     },
     {
      "code": ""
     },
     {
      "code": "ネ"
     },
     {
      "code": "ッ"
     },
     {
      "code": "ト"
     },
     {
      "code": "ワ"
     },
     {
      "code": "ー"
     },
     {
      "code": "ク"
     },
     {
      "code": "の"
     },
     {
      "code": "レ"
     },
     {
      "code": "イ"
     },
     {
      "code": "ア"
     },
     {
      "code": "ウ"
     },
     {
      "code": "ト"
     },
     {
      "code": ""
     },
     {
      "code": ""
     },
     {
      "code": ""
     },
     {
      "code": ""
     },
     {
      "code": ""
     },
     {
      "code": "p"
     },
     {
      "code": "l"
     },
     {
      "code": "t"
     },
     {
      "code": "."
     },
     {
      "code": "f"
     },
     {
      "code": "i"
     },
     {
      "code": "g"
     },
     {
      "code": "u"
     },
     {
      "code": "r"
     },
     {
      "code": "e"
     },
     {
      "code": "("
     },
     {
      "code": "f"
     },
     {
      "code": "i"
     },
     {
      "code": "g"
     },
     {
      "code": "s"
     },
     {
      "code": "i"
     },
     {
      "code": "z"
     },
     {
      "code": "e"
     },
     {
      "code": "="
     },
     {
      "code": "("
     },
     {
      "code": "5"
     },
     {
      "code": "0"
     },
     {
      "code": ","
     },
     {
      "code": ""
     },
     {
      "code": "5"
     },
     {
      "code": "0"
     },
     {
      "code": ")"
     },
     {
      "code": ")"
     },
     {
      "code": ""
     },
     {
      "code": ""
     },
     {
      "code": ""
     },
     {
      "code": ""
     },
     {
      "code": ""
     },
     {
      "code": "p"
     },
     {
      "code": "r"
     },
     {
      "code": ""
     },
     {
      "code": "="
     },
     {
      "code": ""
     },
     {
      "code": "n"
     },
     {
      "code": "x"
     },
     {
      "code": "."
     },
     {
      "code": "p"
     },
     {
      "code": "a"
     },
     {
      "code": "g"
     },
     {
      "code": "e"
     },
     {
      "code": "r"
     },
     {
      "code": "a"
     },
     {
      "code": "n"
     },
     {
      "code": "k"
     },
     {
      "code": "_"
     },
     {
      "code": "n"
     },
     {
      "code": "u"
     },
     {
      "code": "m"
     },
     {
      "code": "p"
     },
     {
      "code": "y"
     },
     {
      "code": "("
     },
     {
      "code": "G"
     },
     {
      "code": "r"
     },
     {
      "code": "a"
     },
     {
      "code": "p"
     },
     {
      "code": "h"
     },
     {
      "code": ","
     },
     {
      "code": ""
     },
     {
      "code": "a"
     },
     {
      "code": "l"
     },
     {
      "code": "p"
     },
     {
      "code": "h"
     },
     {
      "code": "a"
     },
     {
      "code": "="
     },
     {
      "code": "0"
     },
     {
      "code": "."
     },
     {
      "code": "9"
     },
     {
      "code": ")"
     },
     {
      "code": ""
     },
     {
      "code": ""
     },
     {
      "code": ""
     },
     {
      "code": ""
     },
     {
      "code": ""
     },
     {
      "code": "#"
     },
     {
      "code": ""
     },
     {
      "code": "p"
     },
     {
      "code": "o"
     },
     {
      "code": "s"
     },
     {
      "code": ""
     },
     {
      "code": "="
     },
     {
      "code": ""
     },
     {
      "code": "n"
     },
     {
      "code": "x"
     },
     {
      "code": "."
     },
     {
      "code": "s"
     },
     {
      "code": "p"
     },
     {
      "code": "r"
     },
     {
      "code": "i"
     },
     {
      "code": "n"
     },
     {
      "code": "g"
     },
     {
      "code": "_"
     },
     {
      "code": "l"
     },
     {
      "code": "a"
     },
     {
      "code": "y"
     },
     {
      "code": "o"
     },
     {
      "code": "u"
     },
     {
      "code": "t"
     },
     {
      "code": "("
     },
     {
      "code": "G"
     },
     {
      "code": ","
     },
     {
      "code": ""
     },
     {
      "code": "k"
     },
     {
      "code": "="
     },
     {
      "code": "0"
     },
     {
      "code": "."
     },
     {
      "code": "5"
     },
     {
      "code": ")"
     },
     {
      "code": ""
     },
     {
      "code": ""
     },
     {
      "code": ""
     },
     {
      "code": ""
     },
     {
      "code": ""
     },
     {
      "code": "#"
     },
     {
      "code": ""
     },
     {
      "code": "p"
     },
     {
      "code": "o"
     },
     {
      "code": "s"
     },
     {
      "code": ""
     },
     {
      "code": "="
     },
     {
      "code": ""
     },
     {
      "code": "n"
     },
     {
      "code": "x"
     },
     {
      "code": "."
     },
     {
      "code": "b"
     },
     {
      "code": "i"
     },
     {
      "code": "p"
     },
     {
      "code": "a"
     },
     {
      "code": "r"
     },
     {
      "code": "t"
     },
     {
      "code": "i"
     },
     {
      "code": "t"
     },
     {
      "code": "e"
     },
     {
      "code": "_"
     },
     {
      "code": "l"
     },
     {
      "code": "a"
     },
     {
      "code": "y"
     },
     {
      "code": "o"
     },
     {
      "code": "u"
     },
     {
      "code": "t"
     },
     {
      "code": "("
     },
     {
      "code": "G"
     },
     {
      "code": ")"
     },
     {
      "code": ""
     },
     {
      "code": ""
     },
     {
      "code": ""
     },
     {
      "code": ""
     },
     {
      "code": ""
     },
     {
      "code": "#"
     },
     {
      "code": ""
     },
     {
      "code": "p"
     },
     {
      "code": "o"
     },
     {
      "code": "s"
     },
     {
      "code": ""
     },
     {
      "code": "="
     },
     {
      "code": ""
     },
     {
      "code": "n"
     },
     {
      "code": "x"
     },
     {
      "code": "."
     },
     {
      "code": "c"
     },
     {
      "code": "i"
     },
     {
      "code": "r"
     },
     {
      "code": "c"
     },
     {
      "code": "u"
     },
     {
      "code": "l"
     },
     {
      "code": "a"
     },
     {
      "code": "r"
     },
     {
      "code": "_"
     },
     {
      "code": "l"
     },
     {
      "code": "a"
     },
     {
      "code": "y"
     },
     {
      "code": "o"
     },
     {
      "code": "u"
     },
     {
      "code": "t"
     },
     {
      "code": "("
     },
     {
      "code": "G"
     },
     {
      "code": ")"
     },
     {
      "code": ""
     },
     {
      "code": ""
     },
     {
      "code": ""
     },
     {
      "code": ""
     },
     {
      "code": ""
     },
     {
      "code": "p"
     },
     {
      "code": "o"
     },
     {
      "code": "s"
     },
     {
      "code": ""
     },
     {
      "code": "="
     },
     {
      "code": ""
     },
     {
      "code": "n"
     },
     {
      "code": "x"
     },
     {
      "code": "."
     },
     {
      "code": "k"
     },
     {
      "code": "a"
     },
     {
      "code": "m"
     },
     {
      "code": "a"
     },
     {
      "code": "d"
     },
     {
      "code": "a"
     },
     {
      "code": "_"
     },
     {
      "code": "k"
     },
     {
      "code": "a"
     },
     {
      "code": "w"
     },
     {
      "code": "a"
     },
     {
      "code": "i"
     },
     {
      "code": "_"
     },
     {
      "code": "l"
     },
     {
      "code": "a"
     },
     {
      "code": "y"
     },
     {
      "code": "o"
     },
     {
      "code": "u"
     },
     {
      "code": "t"
     },
     {
      "code": "("
     },
     {
      "code": "G"
     },
     {
      "code": "r"
     },
     {
      "code": "a"
     },
     {
      "code": "p"
     },
     {
      "code": "h"
     },
     {
      "code": ")"
     },
     {
      "code": ""
     },
     {
      "code": ""
     },
     {
      "code": ""
     },
     {
      "code": ""
     },
     {
      "code": ""
     },
     {
      "code": "#"
     },
     {
      "code": ""
     },
     {
      "code": "p"
     },
     {
      "code": "o"
     },
     {
      "code": "s"
     },
     {
      "code": ""
     },
     {
      "code": "="
     },
     {
      "code": ""
     },
     {
      "code": "n"
     },
     {
      "code": "x"
     },
     {
      "code": "."
     },
     {
      "code": "r"
     },
     {
      "code": "a"
     },
     {
      "code": "n"
     },
     {
      "code": "d"
     },
     {
      "code": "o"
     },
     {
      "code": "m"
     },
     {
      "code": "_"
     },
     {
      "code": "l"
     },
     {
      "code": "a"
     },
     {
      "code": "y"
     },
     {
      "code": "o"
     },
     {
      "code": "u"
     },
     {
      "code": "t"
     },
     {
      "code": "("
     },
     {
      "code": "G"
     },
     {
      "code": ")"
     },
     {
      "code": ""
     },
     {
      "code": ""
     },
     {
      "code": ""
     },
     {
      "code": ""
     },
     {
      "code": ""
     },
     {
      "code": "#"
     },
     {
      "code": ""
     },
     {
      "code": "p"
     },
     {
      "code": "o"
     },
     {
      "code": "s"
     },
     {
      "code": ""
     },
     {
      "code": "="
     },
     {
      "code": ""
     },
     {
      "code": "n"
     },
     {
      "code": "x"
     },
     {
      "code": "."
     },
     {
      "code": "r"
     },
     {
      "code": "e"
     },
     {
      "code": "s"
     },
     {
      "code": "c"
     },
     {
      "code": "a"
     },
     {
      "code": "l"
     },
     {
      "code": "e"
     },
     {
      "code": "_"
     },
     {
      "code": "l"
     },
     {
      "code": "a"
     },
     {
      "code": "y"
     },
     {
      "code": "o"
     },
     {
      "code": "u"
     },
     {
      "code": "t"
     },
     {
      "code": "("
     },
     {
      "code": "G"
     },
     {
      "code": ")"
     },
     {
      "code": ""
     },
     {
      "code": ""
     },
     {
      "code": ""
     },
     {
      "code": ""
     },
     {
      "code": ""
     },
     {
      "code": "#"
     },
     {
      "code": ""
     },
     {
      "code": "p"
     },
     {
      "code": "o"
     },
     {
      "code": "s"
     },
     {
      "code": ""
     },
     {
      "code": "="
     },
     {
      "code": ""
     },
     {
      "code": "n"
     },
     {
      "code": "x"
     },
     {
      "code": "."
     },
     {
      "code": "s"
     },
     {
      "code": "h"
     },
     {
      "code": "e"
     },
     {
      "code": "l"
     },
     {
      "code": "l"
     },
     {
      "code": "_"
     },
     {
      "code": "l"
     },
     {
      "code": "a"
     },
     {
      "code": "y"
     },
     {
      "code": "o"
     },
     {
      "code": "u"
     },
     {
      "code": "t"
     },
     {
      "code": "("
     },
     {
      "code": "G"
     },
     {
      "code": ")"
     },
     {
      "code": ""
     },
     {
      "code": ""
     },
     {
      "code": ""
     },
     {
      "code": ""
     },
     {
      "code": ""
     },
     {
      "code": "#"
     },
     {
      "code": ""
     },
     {
      "code": "p"
     },
     {
      "code": "o"
     },
     {
      "code": "s"
     },
     {
      "code": ""
     },
     {
      "code": "="
     },
     {
      "code": ""
     },
     {
      "code": "n"
     },
     {
      "code": "x"
     },
     {
      "code": "."
     },
     {
      "code": "s"
     },
     {
      "code": "p"
     },
     {
      "code": "e"
     },
     {
      "code": "c"
     },
     {
      "code": "t"
     },
     {
      "code": "r"
     },
     {
      "code": "a"
     },
     {
      "code": "l"
     },
     {
      "code": "_"
     },
     {
      "code": "l"
     },
     {
      "code": "a"
     },
     {
      "code": "y"
     },
     {
      "code": "o"
     },
     {
      "code": "u"
     },
     {
      "code": "t"
     },
     {
      "code": "("
     },
     {
      "code": "G"
     },
     {
      "code": ")"
     },
     {
      "code": ""
     },
     {
      "code": ""
     },
     {
      "code": ""
     },
     {
      "code": ""
     },
     {
      "code": ""
     },
     {
      "code": ""
     },
     {
      "code": "n"
     },
     {
      "code": "x"
     },
     {
      "code": "."
     },
     {
      "code": "d"
     },
     {
      "code": "r"
     },
     {
      "code": "a"
     },
     {
      "code": "w"
     },
     {
      "code": "_"
     },
     {
      "code": "n"
     },
     {
      "code": "e"
     },
     {
      "code": "t"
     },
     {
      "code": "w"
     },
     {
      "code": "o"
     },
     {
      "code": "r"
     },
     {
      "code": "k"
     },
     {
      "code": "x"
     },
     {
      "code": "_"
     },
     {
      "code": "n"
     },
     {
      "code": "o"
     },
     {
      "code": "d"
     },
     {
      "code": "e"
     },
     {
      "code": "s"
     },
     {
      "code": "("
     },
     {
      "code": "G"
     },
     {
      "code": "r"
     },
     {
      "code": "a"
     },
     {
      "code": "p"
     },
     {
      "code": "h"
     },
     {
      "code": ","
     },
     {
      "code": ""
     },
     {
      "code": "p"
     },
     {
      "code": "o"
     },
     {
      "code": "s"
     },
     {
      "code": ","
     },
     {
      "code": ""
     },
     {
      "code": "n"
     },
     {
      "code": "o"
     },
     {
      "code": "d"
     },
     {
      "code": "e"
     },
     {
      "code": "_"
     },
     {
      "code": "c"
     },
     {
      "code": "o"
     },
     {
      "code": "l"
     },
     {
      "code": "o"
     },
     {
      "code": "r"
     },
     {
      "code": ""
     },
     {
      "code": "="
     },
     {
      "code": ""
     },
     {
      "code": "'"
     },
     {
      "code": "y"
     },
     {
      "code": "e"
     },
     {
      "code": "l"
     },
     {
      "code": "l"
     },
     {
      "code": "o"
     },
     {
      "code": "w"
     },
     {
      "code": "'"
     },
     {
      "code": ","
     },
     {
      "code": ""
     },
     {
      "code": "a"
     },
     {
      "code": "l"
     },
     {
      "code": "p"
     },
     {
      "code": "h"
     },
     {
      "code": "a"
     },
     {
      "code": ""
     },
     {
      "code": "="
     },
     {
      "code": ""
     },
     {
      "code": "0"
     },
     {
      "code": "."
     },
     {
      "code": "6"
     },
     {
      "code": ")"
     },
     {
      "code": ""
     },
     {
      "code": "#"
     },
     {
      "code": "["
     },
     {
      "code": "1"
     },
     {
      "code": "0"
     },
     {
      "code": "0"
     },
     {
      "code": "0"
     },
     {
      "code": "0"
     },
     {
      "code": "*"
     },
     {
      "code": "("
     },
     {
      "code": "v"
     },
     {
      "code": "+"
     },
     {
      "code": "0"
     },
     {
      "code": "."
     },
     {
      "code": "2"
     },
     {
      "code": ")"
     },
     {
      "code": ""
     },
     {
      "code": "f"
     },
     {
      "code": "o"
     },
     {
      "code": "r"
     },
     {
      "code": ""
     },
     {
      "code": "v"
     },
     {
      "code": ""
     },
     {
      "code": "i"
     },
     {
      "code": "n"
     },
     {
      "code": ""
     },
     {
      "code": "p"
     },
     {
      "code": "r"
     },
     {
      "code": "."
     },
     {
      "code": "v"
     },
     {
      "code": "a"
     },
     {
      "code": "l"
     },
     {
      "code": "u"
     },
     {
      "code": "e"
     },
     {
      "code": "s"
     },
     {
      "code": "("
     },
     {
      "code": ")"
     },
     {
      "code": "]"
     },
     {
      "code": ","
     },
     {
      "code": ""
     },
     {
      "code": "a"
     },
     {
      "code": "l"
     },
     {
      "code": "p"
     },
     {
      "code": "h"
     },
     {
      "code": "a"
     },
     {
      "code": ""
     },
     {
      "code": "="
     },
     {
      "code": ""
     },
     {
      "code": "0"
     },
     {
      "code": "."
     },
     {
      "code": "6"
     },
     {
      "code": ")"
     },
     {
      "code": ""
     },
     {
      "code": ""
     },
     {
      "code": ""
     },
     {
      "code": ""
     },
     {
      "code": ""
     },
     {
      "code": "n"
     },
     {
      "code": "x"
     },
     {
      "code": "."
     },
     {
      "code": "d"
     },
     {
      "code": "r"
     },
     {
      "code": "a"
     },
     {
      "code": "w"
     },
     {
      "code": "_"
     },
     {
      "code": "n"
     },
     {
      "code": "e"
     },
     {
      "code": "t"
     },
     {
      "code": "w"
     },
     {
      "code": "o"
     },
     {
      "code": "r"
     },
     {
      "code": "k"
     },
     {
      "code": "x"
     },
     {
      "code": "_"
     },
     {
      "code": "e"
     },
     {
      "code": "d"
     },
     {
      "code": "g"
     },
     {
      "code": "e"
     },
     {
      "code": "s"
     },
     {
      "code": "("
     },
     {
      "code": "G"
     },
     {
      "code": "r"
     },
     {
      "code": "a"
     },
     {
      "code": "p"
     },
     {
      "code": "h"
     },
     {
      "code": ","
     },
     {
      "code": ""
     },
     {
      "code": "p"
     },
     {
      "code": "o"
     },
     {
      "code": "s"
     },
     {
      "code": ","
     },
     {
      "code": ""
     },
     {
      "code": "e"
     },
     {
      "code": "d"
     },
     {
      "code": "g"
     },
     {
      "code": "e"
     },
     {
      "code": "_"
     },
     {
      "code": "c"
     },
     {
      "code": "o"
     },
     {
      "code": "l"
     },
     {
      "code": "o"
     },
     {
      "code": "r"
     },
     {
      "code": ""
     },
     {
      "code": "="
     },
     {
      "code": ""
     },
     {
      "code": "'"
     },
     {
      "code": "g"
     },
     {
      "code": "r"
     },
     {
      "code": "a"
     },
     {
      "code": "y"
     },
     {
      "code": "'"
     },
     {
      "code": ")"
     },
     {
      "code": ""
     },
     {
      "code": ""
     },
     {
      "code": ""
     },
     {
      "code": ""
     },
     {
      "code": ""
     },
     {
      "code": ""
     },
     {
      "code": "#"
     },
     {
      "code": ""
     },
     {
      "code": "ノ"
     },
     {
      "code": "ー"
     },
     {
      "code": "ド"
     },
     {
      "code": "の"
     },
     {
      "code": "ラ"
     },
     {
      "code": "ベ"
     },
     {
      "code": "ル"
     },
     {
      "code": "付"
     },
     {
      "code": "け"
     },
     {
      "code": ""
     },
     {
      "code": ""
     },
     {
      "code": ""
     },
     {
      "code": ""
     },
     {
      "code": ""
     },
     {
      "code": "n"
     },
     {
      "code": "x"
     },
     {
      "code": "."
     },
     {
      "code": "d"
     },
     {
      "code": "r"
     },
     {
      "code": "a"
     },
     {
      "code": "w"
     },
     {
      "code": "_"
     },
     {
      "code": "n"
     },
     {
      "code": "e"
     },
     {
      "code": "t"
     },
     {
      "code": "w"
     },
     {
      "code": "o"
     },
     {
      "code": "r"
     },
     {
      "code": "k"
     },
     {
      "code": "x"
     },
     {
      "code": "_"
     },
     {
      "code": "l"
     },
     {
      "code": "a"
     },
     {
      "code": "b"
     },
     {
      "code": "e"
     },
     {
      "code": "l"
     },
     {
      "code": "s"
     },
     {
      "code": "("
     },
     {
      "code": "G"
     },
     {
      "code": "r"
     },
     {
      "code": "a"
     },
     {
      "code": "p"
     },
     {
      "code": "h"
     },
     {
      "code": ","
     },
     {
      "code": ""
     },
     {
      "code": "p"
     },
     {
      "code": "o"
     },
     {
      "code": "s"
     },
     {
      "code": ","
     },
     {
      "code": ""
     },
     {
      "code": "f"
     },
     {
      "code": "o"
     },
     {
      "code": "n"
     },
     {
      "code": "t"
     },
     {
      "code": "_"
     },
     {
      "code": "s"
     },
     {
      "code": "i"
     },
     {
      "code": "z"
     },
     {
      "code": "e"
     },
     {
      "code": "="
     },
     {
      "code": "2"
     },
     {
      "code": "0"
     },
     {
      "code": ","
     },
     {
      "code": ""
     },
     {
      "code": "a"
     },
     {
      "code": "l"
     },
     {
      "code": "p"
     },
     {
      "code": "h"
     },
     {
      "code": "a"
     },
     {
      "code": ""
     },
     {
      "code": "="
     },
     {
      "code": ""
     },
     {
      "code": "0"
     },
     {
      "code": "."
     },
     {
      "code": "8"
     },
     {
      "code": ")"
     },
     {
      "code": ""
     },
     {
      "code": ""
     },
     {
      "code": ""
     },
     {
      "code": ""
     },
     {
      "code": ""
     },
     {
      "code": ""
     },
     {
      "code": "p"
     },
     {
      "code": "l"
     },
     {
      "code": "t"
     },
     {
      "code": "."
     },
     {
      "code": "s"
     },
     {
      "code": "h"
     },
     {
      "code": "o"
     },
     {
      "code": "w"
     },
     {
      "code": "("
     },
     {
      "code": ")"
     },
     {
      "code": ""
     },
     {
      "code": ""
     },
     {
      "code": ""
     },
     {
      "code": ""
     },
     {
      "code": ""
     },
     {
      "code": "p"
     },
     {
      "code": "l"
     },
     {
      "code": "t"
     },
     {
      "code": "."
     },
     {
      "code": "c"
     },
     {
      "code": "l"
     },
     {
      "code": "o"
     },
     {
      "code": "s"
     },
     {
      "code": "e"
     },
     {
      "code": "("
     },
     {
      "code": ")"
     }
    ]
   }
  },
  {
   "cell_type": "code",
   "execution_count": 5,
   "metadata": {},
   "outputs": [
    {
     "name": "stdout",
     "output_type": "stream",
     "text": [
      "<class 'str'>\n"
     ]
    },
    {
     "ename": "TypeError",
     "evalue": "expected str, bytes or os.PathLike object, not Pajek",
     "output_type": "error",
     "traceback": [
      "\u001b[0;31m---------------------------------------------------------------------------\u001b[0m",
      "\u001b[0;31mTypeError\u001b[0m                                 Traceback (most recent call last)",
      "\u001b[0;32m<ipython-input-5-60a0c2713aa2>\u001b[0m in \u001b[0;36m<module>\u001b[0;34m()\u001b[0m\n\u001b[1;32m      1\u001b[0m \u001b[0mfile\u001b[0m \u001b[0;34m=\u001b[0m \u001b[0;34m[\u001b[0m\u001b[0;34m'AnalysisData/2003_1-4/200301.paj'\u001b[0m\u001b[0;34m,\u001b[0m \u001b[0;34m'AnalysisData/2003_9-12/200312.paj'\u001b[0m\u001b[0;34m]\u001b[0m\u001b[0;34m\u001b[0m\u001b[0;34m\u001b[0m\u001b[0m\n\u001b[1;32m      2\u001b[0m \u001b[0mpaj\u001b[0m \u001b[0;34m=\u001b[0m \u001b[0mPajek\u001b[0m\u001b[0;34m(\u001b[0m\u001b[0;34m)\u001b[0m\u001b[0;34m\u001b[0m\u001b[0;34m\u001b[0m\u001b[0m\n\u001b[0;32m----> 3\u001b[0;31m \u001b[0mpaj\u001b[0m\u001b[0;34m.\u001b[0m\u001b[0mprint_net\u001b[0m\u001b[0;34m(\u001b[0m\u001b[0mfile\u001b[0m\u001b[0;34m,\u001b[0m \u001b[0mtarget\u001b[0m \u001b[0;34m=\u001b[0m \u001b[0;34m[\u001b[0m\u001b[0;34m'dev'\u001b[0m\u001b[0;34m]\u001b[0m\u001b[0;34m)\u001b[0m\u001b[0;34m\u001b[0m\u001b[0;34m\u001b[0m\u001b[0m\n\u001b[0m\u001b[1;32m      4\u001b[0m \u001b[0;34m\u001b[0m\u001b[0m\n\u001b[1;32m      5\u001b[0m \u001b[0;31m# G1, p1 = read_pajek_file(file[0])\u001b[0m\u001b[0;34m\u001b[0m\u001b[0;34m\u001b[0m\u001b[0;34m\u001b[0m\u001b[0m\n",
      "\u001b[0;32m<ipython-input-4-faba9e64d0cf>\u001b[0m in \u001b[0;36mprint_net\u001b[0;34m(self, file, target, figure_size)\u001b[0m\n\u001b[1;32m    133\u001b[0m         \u001b[0;32mfor\u001b[0m \u001b[0mi\u001b[0m \u001b[0;32min\u001b[0m \u001b[0mrange\u001b[0m\u001b[0;34m(\u001b[0m\u001b[0mlen\u001b[0m\u001b[0;34m(\u001b[0m\u001b[0mfile\u001b[0m\u001b[0;34m)\u001b[0m\u001b[0;34m)\u001b[0m\u001b[0;34m:\u001b[0m\u001b[0;34m\u001b[0m\u001b[0;34m\u001b[0m\u001b[0m\n\u001b[1;32m    134\u001b[0m             \u001b[0mprint\u001b[0m\u001b[0;34m(\u001b[0m\u001b[0mtype\u001b[0m\u001b[0;34m(\u001b[0m\u001b[0mfile\u001b[0m\u001b[0;34m[\u001b[0m\u001b[0mi\u001b[0m\u001b[0;34m]\u001b[0m\u001b[0;34m)\u001b[0m\u001b[0;34m)\u001b[0m\u001b[0;34m\u001b[0m\u001b[0;34m\u001b[0m\u001b[0m\n\u001b[0;32m--> 135\u001b[0;31m             \u001b[0mG\u001b[0m\u001b[0;34m,\u001b[0m \u001b[0mpartition\u001b[0m \u001b[0;34m=\u001b[0m \u001b[0mself\u001b[0m\u001b[0;34m.\u001b[0m\u001b[0mread_pajek_file\u001b[0m\u001b[0;34m(\u001b[0m\u001b[0mfile\u001b[0m\u001b[0;34m[\u001b[0m\u001b[0mi\u001b[0m\u001b[0;34m]\u001b[0m\u001b[0;34m)\u001b[0m\u001b[0;34m\u001b[0m\u001b[0;34m\u001b[0m\u001b[0m\n\u001b[0m\u001b[1;32m    136\u001b[0m \u001b[0;34m\u001b[0m\u001b[0m\n\u001b[1;32m    137\u001b[0m             \u001b[0mnode\u001b[0m \u001b[0;34m=\u001b[0m \u001b[0mlist\u001b[0m\u001b[0;34m(\u001b[0m\u001b[0mG\u001b[0m\u001b[0;34m.\u001b[0m\u001b[0mnodes\u001b[0m\u001b[0;34m)\u001b[0m\u001b[0;34m\u001b[0m\u001b[0;34m\u001b[0m\u001b[0m\n",
      "\u001b[0;32m<ipython-input-4-faba9e64d0cf>\u001b[0m in \u001b[0;36mread_pajek_file\u001b[0;34m(file, encoding)\u001b[0m\n\u001b[1;32m     11\u001b[0m         \u001b[0mtext\u001b[0m \u001b[0;34m=\u001b[0m \u001b[0;32mTrue\u001b[0m\u001b[0;34m\u001b[0m\u001b[0;34m\u001b[0m\u001b[0m\n\u001b[1;32m     12\u001b[0m         \u001b[0mi\u001b[0m \u001b[0;34m=\u001b[0m \u001b[0;36m0\u001b[0m\u001b[0;34m\u001b[0m\u001b[0;34m\u001b[0m\u001b[0m\n\u001b[0;32m---> 13\u001b[0;31m         \u001b[0mf\u001b[0m \u001b[0;34m=\u001b[0m \u001b[0mopen\u001b[0m\u001b[0;34m(\u001b[0m\u001b[0mfile\u001b[0m\u001b[0;34m,\u001b[0m \u001b[0mencoding\u001b[0m\u001b[0;34m=\u001b[0m\u001b[0mencoding\u001b[0m\u001b[0;34m,\u001b[0m \u001b[0merrors\u001b[0m\u001b[0;34m=\u001b[0m\u001b[0;34m'ignore'\u001b[0m\u001b[0;34m)\u001b[0m\u001b[0;34m\u001b[0m\u001b[0;34m\u001b[0m\u001b[0m\n\u001b[0m\u001b[1;32m     14\u001b[0m         \u001b[0;32mwhile\u001b[0m \u001b[0mtext\u001b[0m\u001b[0;34m:\u001b[0m\u001b[0;34m\u001b[0m\u001b[0;34m\u001b[0m\u001b[0m\n\u001b[1;32m     15\u001b[0m             \u001b[0ml\u001b[0m \u001b[0;34m=\u001b[0m \u001b[0mf\u001b[0m\u001b[0;34m.\u001b[0m\u001b[0mreadline\u001b[0m\u001b[0;34m(\u001b[0m\u001b[0;34m)\u001b[0m\u001b[0;34m\u001b[0m\u001b[0;34m\u001b[0m\u001b[0m\n",
      "\u001b[0;31mTypeError\u001b[0m: expected str, bytes or os.PathLike object, not Pajek"
     ]
    }
   ],
   "source": [
    "file = ['AnalysisData/2003_1-4/200301.paj', 'AnalysisData/2003_9-12/200312.paj']\n",
    "paj = Pajek()\n",
    "paj.print_net(file, target = ['dev'])\n",
    "\n",
    "# G1, p1 = read_pajek_file(file[0])\n",
    "# G2, p2 = read_pajek_file(file[1])\n",
    "# n1 = set(list(G1.nodes))\n",
    "# n2 = set(list(G2.nodes))\n",
    "# n3 = n1 and n2\n",
    "# print(n3)"
   ]
  },
  {
   "cell_type": "markdown",
   "metadata": {},
   "source": [
    "## 平均距離"
   ]
  },
  {
   "cell_type": "markdown",
   "metadata": {},
   "source": [
    "## 媒介中心性"
   ]
  },
  {
   "cell_type": "code",
   "execution_count": 90,
   "metadata": {},
   "outputs": [
    {
     "data": {
      "text/plain": [
       "<matplotlib.axes._subplots.AxesSubplot at 0x1a1b7ab390>"
      ]
     },
     "execution_count": 90,
     "metadata": {},
     "output_type": "execute_result"
    },
    {
     "data": {
      "image/png": "[encoded data removed]",
      "text/plain": [
       "<Figure size 432x288 with 1 Axes>"
      ]
     },
     "metadata": {
      "needs_background": "light"
     },
     "output_type": "display_data"
    }
   ],
   "source": []
  },
  {
   "cell_type": "code",
   "execution_count": 91,
   "metadata": {},
   "outputs": [
    {
     "data": {
      "text/html": [
       "<div>\n",
       "<style scoped>\n",
       "    .dataframe tbody tr th:only-of-type {\n",
       "        vertical-align: middle;\n",
       "    }\n",
       "\n",
       "    .dataframe tbody tr th {\n",
       "        vertical-align: top;\n",
       "    }\n",
       "\n",
       "    .dataframe thead th {\n",
       "        text-align: right;\n",
       "    }\n",
       "</style>\n",
       "<table border=\"1\" class=\"dataframe\">\n",
       "  <thead>\n",
       "    <tr style=\"text-align: right;\">\n",
       "      <th></th>\n",
       "      <th>Nodes</th>\n",
       "      <th>Eigen_Centrality</th>\n",
       "    </tr>\n",
       "  </thead>\n",
       "  <tbody>\n",
       "    <tr>\n",
       "      <th>0</th>\n",
       "      <td>wrowe@apache.org</td>\n",
       "      <td>3.751129e-01</td>\n",
       "    </tr>\n",
       "    <tr>\n",
       "      <th>1</th>\n",
       "      <td>slive@apache.org</td>\n",
       "      <td>3.659915e-01</td>\n",
       "    </tr>\n",
       "    <tr>\n",
       "      <th>2</th>\n",
       "      <td>jerenkrantz@apache.org</td>\n",
       "      <td>2.643817e-01</td>\n",
       "    </tr>\n",
       "    <tr>\n",
       "      <th>3</th>\n",
       "      <td>jwoolley@apache.org</td>\n",
       "      <td>2.447105e-01</td>\n",
       "    </tr>\n",
       "    <tr>\n",
       "      <th>4</th>\n",
       "      <td>minfrin@sharp.fm</td>\n",
       "      <td>2.043561e-01</td>\n",
       "    </tr>\n",
       "    <tr>\n",
       "      <th>5</th>\n",
       "      <td>seb.bacon@jamkit.com</td>\n",
       "      <td>1.897846e-01</td>\n",
       "    </tr>\n",
       "    <tr>\n",
       "      <th>6</th>\n",
       "      <td>laxbugzilla@amar.com</td>\n",
       "      <td>1.897846e-01</td>\n",
       "    </tr>\n",
       "    <tr>\n",
       "      <th>7</th>\n",
       "      <td>brian.bothwell@wisdomtools.com</td>\n",
       "      <td>1.897846e-01</td>\n",
       "    </tr>\n",
       "    <tr>\n",
       "      <th>8</th>\n",
       "      <td>huw.jones@globalcrossing.com</td>\n",
       "      <td>1.897846e-01</td>\n",
       "    </tr>\n",
       "    <tr>\n",
       "      <th>9</th>\n",
       "      <td>patrickthun@yahoo.com.sg</td>\n",
       "      <td>1.897846e-01</td>\n",
       "    </tr>\n",
       "    <tr>\n",
       "      <th>10</th>\n",
       "      <td>siegfried.delwiche@sbs.be</td>\n",
       "      <td>1.897846e-01</td>\n",
       "    </tr>\n",
       "    <tr>\n",
       "      <th>11</th>\n",
       "      <td>dauhee@yahoo.com</td>\n",
       "      <td>1.897846e-01</td>\n",
       "    </tr>\n",
       "    <tr>\n",
       "      <th>12</th>\n",
       "      <td>com@foobbs.org</td>\n",
       "      <td>1.897846e-01</td>\n",
       "    </tr>\n",
       "    <tr>\n",
       "      <th>13</th>\n",
       "      <td>trawick@apache.org</td>\n",
       "      <td>1.897733e-01</td>\n",
       "    </tr>\n",
       "    <tr>\n",
       "      <th>14</th>\n",
       "      <td>nd@perlig.de</td>\n",
       "      <td>1.665907e-01</td>\n",
       "    </tr>\n",
       "    <tr>\n",
       "      <th>15</th>\n",
       "      <td>stoddard@apache.org</td>\n",
       "      <td>1.058059e-01</td>\n",
       "    </tr>\n",
       "    <tr>\n",
       "      <th>16</th>\n",
       "      <td>haegar@sdinet.de</td>\n",
       "      <td>7.822242e-02</td>\n",
       "    </tr>\n",
       "    <tr>\n",
       "      <th>17</th>\n",
       "      <td>Relics71s@netscape.net</td>\n",
       "      <td>7.350449e-02</td>\n",
       "    </tr>\n",
       "    <tr>\n",
       "      <th>18</th>\n",
       "      <td>hb@websale-ag.de</td>\n",
       "      <td>7.350449e-02</td>\n",
       "    </tr>\n",
       "    <tr>\n",
       "      <th>19</th>\n",
       "      <td>lutz.petersen@gmx.de</td>\n",
       "      <td>7.350449e-02</td>\n",
       "    </tr>\n",
       "    <tr>\n",
       "      <th>20</th>\n",
       "      <td>bugzilla@areallycool.com</td>\n",
       "      <td>7.167393e-02</td>\n",
       "    </tr>\n",
       "    <tr>\n",
       "      <th>21</th>\n",
       "      <td>sam@netcity.co.uk</td>\n",
       "      <td>7.167393e-02</td>\n",
       "    </tr>\n",
       "    <tr>\n",
       "      <th>22</th>\n",
       "      <td>kspinka@style.net</td>\n",
       "      <td>7.167393e-02</td>\n",
       "    </tr>\n",
       "    <tr>\n",
       "      <th>23</th>\n",
       "      <td>cv@corbach.de</td>\n",
       "      <td>6.954500e-02</td>\n",
       "    </tr>\n",
       "    <tr>\n",
       "      <th>24</th>\n",
       "      <td>nizzt@zerospace.org</td>\n",
       "      <td>6.856726e-02</td>\n",
       "    </tr>\n",
       "    <tr>\n",
       "      <th>25</th>\n",
       "      <td>oliver@watershed.co.uk</td>\n",
       "      <td>6.856726e-02</td>\n",
       "    </tr>\n",
       "    <tr>\n",
       "      <th>26</th>\n",
       "      <td>yuriy.ryabikov@yessoftware.com</td>\n",
       "      <td>6.812515e-02</td>\n",
       "    </tr>\n",
       "    <tr>\n",
       "      <th>27</th>\n",
       "      <td>bugzilla@zipfly.de</td>\n",
       "      <td>6.812515e-02</td>\n",
       "    </tr>\n",
       "    <tr>\n",
       "      <th>28</th>\n",
       "      <td>10@email.si</td>\n",
       "      <td>6.642856e-02</td>\n",
       "    </tr>\n",
       "    <tr>\n",
       "      <th>29</th>\n",
       "      <td>goweb@o2.co.uk</td>\n",
       "      <td>6.642856e-02</td>\n",
       "    </tr>\n",
       "    <tr>\n",
       "      <th>...</th>\n",
       "      <td>...</td>\n",
       "      <td>...</td>\n",
       "    </tr>\n",
       "    <tr>\n",
       "      <th>113</th>\n",
       "      <td>dario.franceschi.k@nordea.se</td>\n",
       "      <td>1.393569e-02</td>\n",
       "    </tr>\n",
       "    <tr>\n",
       "      <th>114</th>\n",
       "      <td>sergeyli@pisem.net</td>\n",
       "      <td>1.393569e-02</td>\n",
       "    </tr>\n",
       "    <tr>\n",
       "      <th>115</th>\n",
       "      <td>juan.rivera@citrix.com</td>\n",
       "      <td>1.393569e-02</td>\n",
       "    </tr>\n",
       "    <tr>\n",
       "      <th>116</th>\n",
       "      <td>tom@izb.net</td>\n",
       "      <td>1.388833e-02</td>\n",
       "    </tr>\n",
       "    <tr>\n",
       "      <th>117</th>\n",
       "      <td>lonewolf@greyskydesigns.com</td>\n",
       "      <td>1.388833e-02</td>\n",
       "    </tr>\n",
       "    <tr>\n",
       "      <th>118</th>\n",
       "      <td>Joseph.Senulis@dnr.state.wi.us</td>\n",
       "      <td>1.294124e-02</td>\n",
       "    </tr>\n",
       "    <tr>\n",
       "      <th>119</th>\n",
       "      <td>apachebugs@louisiana.edu</td>\n",
       "      <td>1.294124e-02</td>\n",
       "    </tr>\n",
       "    <tr>\n",
       "      <th>120</th>\n",
       "      <td>javier@vrweb.cl</td>\n",
       "      <td>1.294124e-02</td>\n",
       "    </tr>\n",
       "    <tr>\n",
       "      <th>121</th>\n",
       "      <td>amund.elstad@ergo.no</td>\n",
       "      <td>1.294124e-02</td>\n",
       "    </tr>\n",
       "    <tr>\n",
       "      <th>122</th>\n",
       "      <td>ben@algroup.co.uk</td>\n",
       "      <td>1.219174e-02</td>\n",
       "    </tr>\n",
       "    <tr>\n",
       "      <th>123</th>\n",
       "      <td>kess@kess-net.de</td>\n",
       "      <td>1.219174e-02</td>\n",
       "    </tr>\n",
       "    <tr>\n",
       "      <th>124</th>\n",
       "      <td>paul.d.rowlands@delphiauto.com</td>\n",
       "      <td>1.136035e-02</td>\n",
       "    </tr>\n",
       "    <tr>\n",
       "      <th>125</th>\n",
       "      <td>trh411@earthlink.net</td>\n",
       "      <td>1.136035e-02</td>\n",
       "    </tr>\n",
       "    <tr>\n",
       "      <th>126</th>\n",
       "      <td>frank@sane.com</td>\n",
       "      <td>1.136035e-02</td>\n",
       "    </tr>\n",
       "    <tr>\n",
       "      <th>127</th>\n",
       "      <td>cbartels@ucsd.edu</td>\n",
       "      <td>4.188508e-03</td>\n",
       "    </tr>\n",
       "    <tr>\n",
       "      <th>128</th>\n",
       "      <td>tsoome@muhv.pri.ee</td>\n",
       "      <td>2.921467e-03</td>\n",
       "    </tr>\n",
       "    <tr>\n",
       "      <th>129</th>\n",
       "      <td>svd@altlinux.ru</td>\n",
       "      <td>4.412226e-17</td>\n",
       "    </tr>\n",
       "    <tr>\n",
       "      <th>130</th>\n",
       "      <td>gregames@apache.org</td>\n",
       "      <td>4.334813e-17</td>\n",
       "    </tr>\n",
       "    <tr>\n",
       "      <th>131</th>\n",
       "      <td>PeterMayne@ap.spherion.com</td>\n",
       "      <td>4.244100e-17</td>\n",
       "    </tr>\n",
       "    <tr>\n",
       "      <th>132</th>\n",
       "      <td>carenas@chasqui.lared.net.pe</td>\n",
       "      <td>3.699231e-17</td>\n",
       "    </tr>\n",
       "    <tr>\n",
       "      <th>133</th>\n",
       "      <td>bas23@pacbell.net</td>\n",
       "      <td>3.190110e-17</td>\n",
       "    </tr>\n",
       "    <tr>\n",
       "      <th>134</th>\n",
       "      <td>psychosos@gmx.at</td>\n",
       "      <td>3.078379e-17</td>\n",
       "    </tr>\n",
       "    <tr>\n",
       "      <th>135</th>\n",
       "      <td>jorton@redhat.com</td>\n",
       "      <td>2.961513e-17</td>\n",
       "    </tr>\n",
       "    <tr>\n",
       "      <th>136</th>\n",
       "      <td>scottb@bxwa.com</td>\n",
       "      <td>2.722127e-17</td>\n",
       "    </tr>\n",
       "    <tr>\n",
       "      <th>137</th>\n",
       "      <td>masaharu@mutsuyoshi.net</td>\n",
       "      <td>2.374841e-17</td>\n",
       "    </tr>\n",
       "    <tr>\n",
       "      <th>138</th>\n",
       "      <td>mavricknz@yahoo.com</td>\n",
       "      <td>2.279705e-17</td>\n",
       "    </tr>\n",
       "    <tr>\n",
       "      <th>139</th>\n",
       "      <td>infoza@vcable.net</td>\n",
       "      <td>1.605963e-17</td>\n",
       "    </tr>\n",
       "    <tr>\n",
       "      <th>140</th>\n",
       "      <td>rjalex2001@libero.it</td>\n",
       "      <td>1.154742e-17</td>\n",
       "    </tr>\n",
       "    <tr>\n",
       "      <th>141</th>\n",
       "      <td>rederpj@apache.org</td>\n",
       "      <td>-8.367501e-18</td>\n",
       "    </tr>\n",
       "    <tr>\n",
       "      <th>142</th>\n",
       "      <td>thom@planetarytramp.net</td>\n",
       "      <td>-3.642173e-17</td>\n",
       "    </tr>\n",
       "  </tbody>\n",
       "</table>\n",
       "<p>143 rows × 2 columns</p>\n",
       "</div>"
      ],
      "text/plain": [
       "                              Nodes  Eigen_Centrality\n",
       "0                  wrowe@apache.org      3.751129e-01\n",
       "1                  slive@apache.org      3.659915e-01\n",
       "2            jerenkrantz@apache.org      2.643817e-01\n",
       "3               jwoolley@apache.org      2.447105e-01\n",
       "4                  minfrin@sharp.fm      2.043561e-01\n",
       "5              seb.bacon@jamkit.com      1.897846e-01\n",
       "6              laxbugzilla@amar.com      1.897846e-01\n",
       "7    brian.bothwell@wisdomtools.com      1.897846e-01\n",
       "8      huw.jones@globalcrossing.com      1.897846e-01\n",
       "9          patrickthun@yahoo.com.sg      1.897846e-01\n",
       "10        siegfried.delwiche@sbs.be      1.897846e-01\n",
       "11                 dauhee@yahoo.com      1.897846e-01\n",
       "12                   com@foobbs.org      1.897846e-01\n",
       "13               trawick@apache.org      1.897733e-01\n",
       "14                     nd@perlig.de      1.665907e-01\n",
       "15              stoddard@apache.org      1.058059e-01\n",
       "16                 haegar@sdinet.de      7.822242e-02\n",
       "17           Relics71s@netscape.net      7.350449e-02\n",
       "18                 hb@websale-ag.de      7.350449e-02\n",
       "19             lutz.petersen@gmx.de      7.350449e-02\n",
       "20         bugzilla@areallycool.com      7.167393e-02\n",
       "21                sam@netcity.co.uk      7.167393e-02\n",
       "22                kspinka@style.net      7.167393e-02\n",
       "23                    cv@corbach.de      6.954500e-02\n",
       "24              nizzt@zerospace.org      6.856726e-02\n",
       "25           oliver@watershed.co.uk      6.856726e-02\n",
       "26   yuriy.ryabikov@yessoftware.com      6.812515e-02\n",
       "27               bugzilla@zipfly.de      6.812515e-02\n",
       "28                      10@email.si      6.642856e-02\n",
       "29                   goweb@o2.co.uk      6.642856e-02\n",
       "..                              ...               ...\n",
       "113    dario.franceschi.k@nordea.se      1.393569e-02\n",
       "114              sergeyli@pisem.net      1.393569e-02\n",
       "115          juan.rivera@citrix.com      1.393569e-02\n",
       "116                     tom@izb.net      1.388833e-02\n",
       "117     lonewolf@greyskydesigns.com      1.388833e-02\n",
       "118  Joseph.Senulis@dnr.state.wi.us      1.294124e-02\n",
       "119        apachebugs@louisiana.edu      1.294124e-02\n",
       "120                 javier@vrweb.cl      1.294124e-02\n",
       "121            amund.elstad@ergo.no      1.294124e-02\n",
       "122               ben@algroup.co.uk      1.219174e-02\n",
       "123                kess@kess-net.de      1.219174e-02\n",
       "124  paul.d.rowlands@delphiauto.com      1.136035e-02\n",
       "125            trh411@earthlink.net      1.136035e-02\n",
       "126                  frank@sane.com      1.136035e-02\n",
       "127               cbartels@ucsd.edu      4.188508e-03\n",
       "128              tsoome@muhv.pri.ee      2.921467e-03\n",
       "129                 svd@altlinux.ru      4.412226e-17\n",
       "130             gregames@apache.org      4.334813e-17\n",
       "131      PeterMayne@ap.spherion.com      4.244100e-17\n",
       "132    carenas@chasqui.lared.net.pe      3.699231e-17\n",
       "133               bas23@pacbell.net      3.190110e-17\n",
       "134                psychosos@gmx.at      3.078379e-17\n",
       "135               jorton@redhat.com      2.961513e-17\n",
       "136                 scottb@bxwa.com      2.722127e-17\n",
       "137         masaharu@mutsuyoshi.net      2.374841e-17\n",
       "138             mavricknz@yahoo.com      2.279705e-17\n",
       "139               infoza@vcable.net      1.605963e-17\n",
       "140            rjalex2001@libero.it      1.154742e-17\n",
       "141              rederpj@apache.org     -8.367501e-18\n",
       "142         thom@planetarytramp.net     -3.642173e-17\n",
       "\n",
       "[143 rows x 2 columns]"
      ]
     },
     "execution_count": 91,
     "metadata": {},
     "output_type": "execute_result"
    }
   ],
   "source": [
    "eigen_centers = nx.eigenvector_centrality_numpy(G)\n",
    "eigen_centers_sorted = sorted(eigen_centers.items(), key=lambda x: x[1], reverse=True)\n",
    "eigen_centers_df = pd.DataFrame(eigen_centers_sorted, columns = ['Nodes', 'Eigen_Centrality'])\n",
    "eigen_centers_df"
   ]
  },
  {
   "cell_type": "code",
   "execution_count": 8,
   "metadata": {},
   "outputs": [
    {
     "data": {
      "text/plain": [
       "{(1, 1), (1, 2)}"
      ]
     },
     "execution_count": 8,
     "metadata": {},
     "output_type": "execute_result"
    }
   ],
   "source": [
    "l = [(1,1), (1,1), (1,2)]\n",
    "# l = [1,1,1,2]\n",
    "set(l)"
   ]
  },
  {
   "cell_type": "code",
   "execution_count": null,
   "metadata": {},
   "outputs": [],
   "source": []
  }
 ],
 "metadata": {
  "kernelspec": {
   "display_name": "Python 3",
   "language": "python",
   "name": "python3"
  },
  "language_info": {
   "codemirror_mode": {
    "name": "ipython",
    "version": 3
   },
   "file_extension": ".py",
   "mimetype": "text/x-python",
   "name": "python",
   "nbconvert_exporter": "python",
   "pygments_lexer": "ipython3",
   "version": "3.7.2"
  }
 },
 "nbformat": 4,
 "nbformat_minor": 2
}
